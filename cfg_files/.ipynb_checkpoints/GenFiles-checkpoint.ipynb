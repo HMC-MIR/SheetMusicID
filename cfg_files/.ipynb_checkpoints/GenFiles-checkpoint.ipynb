{
 "cells": [
  {
   "cell_type": "code",
   "execution_count": 1,
   "metadata": {},
   "outputs": [],
   "source": [
    "# Generates Total\n",
    "f = open(\"midi.total.list\", \"w\")\n",
    "g = open(\"query.total.list\", \"w\")\n",
    "\n",
    "for i in range(1,201):\n",
    "    num = str(i)\n",
    "    if True:\n",
    "        str1 = \"data/queries/p\"+num+\"_q\"\n",
    "        str2 = \"data/midi/p\"+num+\".mid\\n\"\n",
    "        for j in range(1,11):\n",
    "            strTmp = str1+ str(j)+\".jpg\\n\"\n",
    "            g.write(strTmp)\n",
    "        f.write(str2)\n",
    "f.close()\n",
    "g.close()"
   ]
  },
  {
   "cell_type": "code",
   "execution_count": 3,
   "metadata": {},
   "outputs": [],
   "source": [
    "# Generates Train\n",
    "f = open(\"midi.train.list\", \"w\")\n",
    "g = open(\"query.train.list\", \"w\")\n",
    "\n",
    "for i in range(1,201):\n",
    "    num = str(i)\n",
    "    if i%10==1 or i%10==5:\n",
    "        str1 = \"data/queries/p\"+num+\"_q\"\n",
    "        str2 = \"data/midi/p\"+num+\".mid\\n\"\n",
    "        for j in range(1,11):\n",
    "            strTmp = str1+ str(j)+\".jpg\\n\"\n",
    "            g.write(strTmp)\n",
    "        f.write(str2)\n",
    "f.close()\n",
    "g.close()"
   ]
  },
  {
   "cell_type": "code",
   "execution_count": 4,
   "metadata": {},
   "outputs": [],
   "source": [
    "# Generates Test\n",
    "f = open(\"midi.test.list\", \"w\")\n",
    "g = open(\"query.test.list\", \"w\")\n",
    "\n",
    "for i in range(1,201):\n",
    "    num = str(i)\n",
    "    if i%10==1 or i%10==5:\n",
    "        continue\n",
    "    str1 = \"data/queries/p\"+num+\"_q\"\n",
    "    str2 = \"data/midi/p\"+num+\".mid\\n\"\n",
    "    for j in range(1,11):\n",
    "        strTmp = str1+ str(j)+\".jpg\\n\"\n",
    "        g.write(strTmp)\n",
    "    f.write(str2)\n",
    "f.close()\n",
    "g.close()"
   ]
  },
  {
   "cell_type": "code",
   "execution_count": 1,
   "metadata": {},
   "outputs": [],
   "source": [
    "# Generates Test\n",
    "f = open(\"midi.testBaseline.list\", \"w\")\n",
    "g = open(\"query.testBaseline.list\", \"w\")\n",
    "\n",
    "for i in range(101,201):\n",
    "    num = str(i)\n",
    "    str1 = \"data/queries/p\"+num+\"_q\"\n",
    "    str2 = \"data/midi/p\"+num+\".mid\\n\"\n",
    "    for j in range(1,11):\n",
    "        strTmp = str1+ str(j)+\".jpg\\n\"\n",
    "        g.write(strTmp)\n",
    "    f.write(str2)\n",
    "f.close()\n",
    "g.close()"
   ]
  },
  {
   "cell_type": "code",
   "execution_count": 1,
   "metadata": {},
   "outputs": [],
   "source": [
    "# Generates db.list\n",
    "f = open(\"db.list\", \"w\")\n",
    "\n",
    "for i in range(1,201):\n",
    "    num = str(i)\n",
    "    str2 = \"p\"+num+\"\\n\"\n",
    "    f.write(str2)\n",
    "f.close()"
   ]
  },
  {
   "cell_type": "code",
   "execution_count": null,
   "metadata": {},
   "outputs": [],
   "source": []
  }
 ],
 "metadata": {
  "kernelspec": {
   "display_name": "Python 3",
   "language": "python",
   "name": "python3"
  },
  "language_info": {
   "codemirror_mode": {
    "name": "ipython",
    "version": 3
   },
   "file_extension": ".py",
   "mimetype": "text/x-python",
   "name": "python",
   "nbconvert_exporter": "python",
   "pygments_lexer": "ipython3",
   "version": "3.6.9"
  }
 },
 "nbformat": 4,
 "nbformat_minor": 2
}
