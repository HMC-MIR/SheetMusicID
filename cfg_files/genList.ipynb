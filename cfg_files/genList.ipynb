{
 "cells": [
  {
   "cell_type": "code",
   "execution_count": 7,
   "metadata": {},
   "outputs": [],
   "source": [
    "fname = \"/home/dyang/SheetMidiSearchRetrieval/cfg_files/query.train.list\"\n",
    "with open (fname, 'w') as f:\n",
    "    for i in range(200):\n",
    "        if i%10 == 1 or i%10 == 5:\n",
    "            for j in range(10):\n",
    "                print(\"data/queries/p{}_q{}.jpg\".format(i,j+1), file=f)"
   ]
  },
  {
   "cell_type": "code",
   "execution_count": null,
   "metadata": {},
   "outputs": [],
   "source": []
  }
 ],
 "metadata": {
  "kernelspec": {
   "display_name": "Python 3",
   "language": "python",
   "name": "python3"
  },
  "language_info": {
   "codemirror_mode": {
    "name": "ipython",
    "version": 3
   },
   "file_extension": ".py",
   "mimetype": "text/x-python",
   "name": "python",
   "nbconvert_exporter": "python",
   "pygments_lexer": "ipython3",
   "version": "3.6.9"
  }
 },
 "nbformat": 4,
 "nbformat_minor": 4
}
