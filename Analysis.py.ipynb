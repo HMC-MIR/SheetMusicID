{
 "cells": [
  {
   "cell_type": "code",
   "execution_count": 2,
   "metadata": {},
   "outputs": [
    {
     "name": "stdout",
     "output_type": "stream",
     "text": [
      "The Cython extension is already loaded. To reload it, use:\n",
      "  %reload_ext Cython\n"
     ]
    }
   ],
   "source": [
    "%matplotlib inline\n",
    "%load_ext Cython"
   ]
  },
  {
   "cell_type": "code",
   "execution_count": 3,
   "metadata": {},
   "outputs": [
    {
     "name": "stdout",
     "output_type": "stream",
     "text": [
      "The Cython extension is already loaded. To reload it, use:\n",
      "  %reload_ext Cython\n"
     ]
    }
   ],
   "source": [
    "import numpy as np\n",
    "import copy\n",
    "import tqdm\n",
    "from numpy.matlib import repmat\n",
    "import matplotlib.pyplot as plt\n",
    "from PIL import Image, ImageFilter, ImageChops\n",
    "import cv2\n",
    "from skimage import filters, measure\n",
    "from skimage.measure import label, regionprops\n",
    "from skimage.color import label2rgb\n",
    "from sklearn.cluster import KMeans\n",
    "import matplotlib.patches as mpatches\n",
    "from scipy.signal import convolve2d\n",
    "from scipy.spatial import KDTree\n",
    "import seaborn as sns\n",
    "import pickle\n",
    "import librosa as lb\n",
    "import time\n",
    "import cProfile\n",
    "import os\n",
    "import os.path\n",
    "import pyximport; pyximport.install()\n",
    "import multiprocessing\n",
    "from ExtractBootlegFeatures import *\n",
    "import numpy as np\n",
    "import matplotlib.pyplot as plt\n",
    "import glob\n",
    "import os.path\n",
    "import pretty_midi\n",
    "import pickle\n",
    "import random\n",
    "import operator"
   ]
  },
  {
   "cell_type": "markdown",
   "metadata": {},
   "source": [
    "# Load Rindex"
   ]
  },
  {
   "cell_type": "code",
   "execution_count": 4,
   "metadata": {},
   "outputs": [],
   "source": [
    "# st = time.time()\n",
    "# pickle_file = 'experiments/indices/N_GRAM_4_ALL.pkl'\n",
    "# #pickle_file = 'experiments/indices/SINGULAR_1.pkl'\n",
    "# with open(pickle_file, 'rb') as f:\n",
    "#     rindex1 = pickle.load(f)\n",
    "# print(\"LOADED pkl file\")\n",
    "# rindex_filter = rindex1\n",
    "# print(\"Total Time: \",time.time()-st)"
   ]
  },
  {
   "cell_type": "code",
   "execution_count": 4,
   "metadata": {},
   "outputs": [],
   "source": [
    "# condense = False\n",
    "# if condense :\n",
    "#     rindex_filter = copy.deepcopy(rindex1)\n",
    "#     for key in rindex1:\n",
    "#         s = 0\n",
    "#         for piece in rindex1[key].keys():\n",
    "#             s +=len(rindex1[key][piece])\n",
    "#         if s > 10000:\n",
    "#             rindex_filter.pop(key, None)\n",
    "# print(\"Total Time: \",time.time()-st)"
   ]
  },
  {
   "cell_type": "code",
   "execution_count": 5,
   "metadata": {},
   "outputs": [],
   "source": [
    "# st = time.time()\n",
    "# Max_N = 4\n",
    "# rindex_filter = []\n",
    "# fpMaps = []\n",
    "# counts = []\n",
    "# for i in range(1, Max_N+1):\n",
    "#     print(\"LOADING {}\".format(i))\n",
    "#     pickle_file = 'experiments/indices/N_GRAM_{}_ALL.pkl'.format(i)\n",
    "#     count_file = 'experiments/indices/N_GRAM_{}_COUNT.pkl'.format(i)\n",
    "#     with open(pickle_file, 'rb') as f:\n",
    "#         rindex_filter.append(pickle.load(f))\n",
    "#         f.flush()\n",
    "#         f.close()\n",
    "#     with open(count_file, 'rb') as f:\n",
    "#         counts.append(pickle.load(f))\n",
    "#         f.flush()\n",
    "#         f.close()\n",
    "# print(\"LOADED pkl files\")\n",
    "# print(\"Total Time: \",time.time()-st)"
   ]
  },
  {
   "cell_type": "markdown",
   "metadata": {},
   "source": [
    "# Analysis 1"
   ]
  },
  {
   "cell_type": "code",
   "execution_count": null,
   "metadata": {},
   "outputs": [],
   "source": [
    "st = time.time()\n",
    "pickle_files = []\n",
    "rindices = []\n",
    "pickle_files.append('experiments/indices/N_GRAM_1_COUNT.pkl')\n",
    "pickle_files.append('experiments/indices/N_GRAM_2_COUNT.pkl')\n",
    "pickle_files.append('experiments/indices/N_GRAM_3_COUNT.pkl')\n",
    "pickle_files.append('experiments/indices/N_GRAM_4_COUNT.pkl')\n",
    "pickle_files.append('experiments/indices/N_GRAM_5_COUNT.pkl')\n",
    "for pickle_file in pickle_files:\n",
    "    with open(pickle_file, 'rb') as f:\n",
    "        rindices.append(pickle.load(f))\n",
    "print(\"LOADED pkl counts file\")\n",
    "print(\"Total Time: \",time.time()-st)"
   ]
  },
  {
   "cell_type": "code",
   "execution_count": 52,
   "metadata": {},
   "outputs": [],
   "source": [
    "x_axis = []\n",
    "y_axis = []\n",
    "for i in range(5):\n",
    "    rindex = rindices[i]\n",
    "    counts = []\n",
    "    for i in rindex.keys():\n",
    "        counts.append(rindex[i])\n",
    "    counts = sorted(counts, reverse = True)\n",
    "    x_axis.append(np.arange(len(counts)))\n",
    "    y_axis.append(counts)"
   ]
  },
  {
   "cell_type": "code",
   "execution_count": 53,
   "metadata": {},
   "outputs": [],
   "source": [
    "threshold = 10000\n",
    "dynamic_counts = []"
   ]
  },
  {
   "cell_type": "code",
   "execution_count": 54,
   "metadata": {},
   "outputs": [],
   "source": [
    "# print(\"1-GRAM\")\n",
    "# # get 1-GRAM fps less than threshold\n",
    "# fails_1 = []\n",
    "# for i in rindices[0].keys():\n",
    "#     if rindices[0][i] < threshold:\n",
    "#         dynamic_counts.append(rindices[0][i])\n",
    "#     else:\n",
    "#         fails_1.append(i)\n",
    "\n",
    "# print(\"2-GRAM\")\n",
    "# # get 2-GRAM fps based off 1_GRAM fps\n",
    "# valid_2 = []\n",
    "# fails_2 = []\n",
    "# fails_1 = set(fails_1)\n",
    "# for i in tqdm.notebook.tqdm(rindices[1].keys()):\n",
    "#     base_tuple = (i[0])\n",
    "#     if base_tuple in fails_1:\n",
    "#         valid_2.append(i)\n",
    "# print(len(valid_2))\n",
    "# for i in valid_2:\n",
    "#     if rindices[1][i] < threshold:\n",
    "#         dynamic_counts.append(rindices[1][i])\n",
    "#     else:\n",
    "#         fails_2.append(i)\n",
    "\n",
    "# print(\"3-GRAM\")        \n",
    "# # get 3-GRAM fps based off 1_GRAM fps\n",
    "# valid_3 = []\n",
    "# fails_3 = []\n",
    "# for i in rindices[2].keys():\n",
    "#     base_tuple = (i[0], i[1])\n",
    "#     if base_tuple in fails_2:\n",
    "#         valid_3.append(i)\n",
    "# for i in valid_3:\n",
    "#     if rindices[2][i] < threshold:\n",
    "#         dynamic_counts.append(rindices[2][i])\n",
    "#     else:\n",
    "#         fails_3.append(i)\n",
    "        \n",
    "# print(\"4-GRAM\")\n",
    "# # get 4-GRAM fps based off 1_GRAM fps\n",
    "# valid_4 = []\n",
    "# for i in rindices[1].keys():\n",
    "#     base_tuple = (i[0], i[1], i[2])\n",
    "#     if base_tuple in fails_1:\n",
    "#         valid_4.append(i)\n",
    "# for i in valid_4:\n",
    "#     dynamic_counts.append(rindices[3][i])\n",
    "# x_axis_dynamic = np.arange(dynamic_counts)"
   ]
  },
  {
   "cell_type": "code",
   "execution_count": 55,
   "metadata": {},
   "outputs": [
    {
     "name": "stderr",
     "output_type": "stream",
     "text": [
      "100%|██████████| 34194308/34194308 [28:53<00:00, 19728.12it/s]\n"
     ]
    }
   ],
   "source": [
    "counts = []\n",
    "for i in tqdm.tqdm(rindices[3].keys()):\n",
    "    freq = rindices[3][i]\n",
    "    if freq > threshold:\n",
    "        counts.append(freq)\n",
    "    else:\n",
    "        prev_freq = freq\n",
    "        base_tuple = (i[0], i[1], i[2])\n",
    "        if base_tuple == (0,0,0):\n",
    "            counts.append(prev_freq)\n",
    "            continue\n",
    "        freq = rindices[2][base_tuple]\n",
    "        if freq > threshold:\n",
    "            counts.append(prev_freq)\n",
    "        else:\n",
    "            prev_freq = freq\n",
    "            base_tuple = (i[0], i[1])\n",
    "            if base_tuple == (0,0):\n",
    "                counts.append(prev_freq)\n",
    "                continue\n",
    "            freq = rindices[1][base_tuple]\n",
    "            if freq > threshold:\n",
    "                counts.append(prev_freq)\n",
    "            else:\n",
    "                prev_freq = freq\n",
    "                base_tuple = (i[0],)\n",
    "                if base_tuple == (0,):\n",
    "                    counts.append(prev_freq)\n",
    "                    continue\n",
    "                freq = rindices[0][base_tuple]\n",
    "                if freq > threshold:\n",
    "                    counts.append(prev_freq)\n",
    "                else:\n",
    "                    counts.append(freq)\n",
    "dynamic_counts = counts\n",
    "dynamic_counts = sorted(dynamic_counts, reverse = True)\n",
    "x_axis_dynamic = np.arange(len(dynamic_counts))"
   ]
  },
  {
   "cell_type": "code",
   "execution_count": 56,
   "metadata": {},
   "outputs": [],
   "source": [
    "with open(\"/home/dyang/analysis10k.txt\", 'wb') as f:\n",
    "    pickle.dump(dynamic_counts, f)"
   ]
  },
  {
   "cell_type": "code",
   "execution_count": 71,
   "metadata": {},
   "outputs": [],
   "source": [
    "with open(\"/home/dyang/analysis10k.txt\", 'rb') as f:\n",
    "    dynamic_counts = pickle.load(f)\n",
    "x_axis_dynamic = np.arange(len(dynamic_counts))"
   ]
  },
  {
   "cell_type": "code",
   "execution_count": 70,
   "metadata": {},
   "outputs": [
    {
     "data": {
      "text/plain": [
       "<matplotlib.legend.Legend at 0x7f8713a50c50>"
      ]
     },
     "execution_count": 70,
     "metadata": {},
     "output_type": "execute_result"
    },
    {
     "data": {
      "image/png": "[encoded data removed]",
      "text/plain": [
       "<Figure size 720x720 with 1 Axes>"
      ]
     },
     "metadata": {
      "needs_background": "light"
     },
     "output_type": "display_data"
    }
   ],
   "source": [
    "fig = plt.figure(figsize = (10,10))\n",
    "ax = fig.add_subplot(1, 1, 1)\n",
    "ax.set_yscale('log')\n",
    "ax.set_xscale('log')\n",
    "ax.set_title('Frequency Distribution of Fingerprints', fontsize=20)\n",
    "ax.set_xlabel('Fingerprint Count', fontsize=15)\n",
    "ax.set_ylabel('Log Frequency', fontsize=15)\n",
    "ax.plot(x_axis[0], y_axis[0], label = \"1_GRAM\")\n",
    "ax.plot(x_axis[1], y_axis[1], label = \"2_GRAM\")\n",
    "ax.plot(x_axis[2], y_axis[2], label = \"3_GRAM\")\n",
    "ax.plot(x_axis[3], y_axis[3], label = \"4_GRAM\")\n",
    "ax.plot(x_axis[4], y_axis[4], label = \"5_GRAM\")\n",
    "ax.plot(x_axis_dynamic, dynamic_counts, label = \"DYNAMIC\")\n",
    "plt.legend(loc=\"upper right\",fontsize = 13)"
   ]
  },
  {
   "cell_type": "code",
   "execution_count": null,
   "metadata": {},
   "outputs": [],
   "source": [
    "fig = plt.figure(figsize = (10,10))\n",
    "ax = fig.add_subplot(1, 1, 1)\n",
    "ax.set_yscale('log')\n",
    "ax.set_xscale('log')\n",
    "ax.set_title('Frequency Distribution of Fingerprints', fontsize=20)\n",
    "ax.set_xlabel('Fingerprint Count', fontsize=15)\n",
    "ax.set_ylabel('Log Frequency', fontsize=15)\n",
    "ax.plot(x_axis[0], y_axis[0], label = \"1_GRAM\")\n",
    "ax.plot(x_axis[1], y_axis[1], label = \"2_GRAM\")\n",
    "ax.plot(x_axis[2], y_axis[2], label = \"3_GRAM\")\n",
    "ax.plot(x_axis[3], y_axis[3], label = \"4_GRAM\")\n",
    "ax.plot(x_axis[4], y_axis[4], label = \"5_GRAM\")\n",
    "ax.plot(x_axis_dynamic, dynamic_counts, label = \"DYNAMIC\")\n",
    "plt.legend(loc=\"upper right\",fontsize = 13)"
   ]
  },
  {
   "cell_type": "markdown",
   "metadata": {},
   "source": [
    "# Analysis 2"
   ]
  },
  {
   "cell_type": "markdown",
   "metadata": {},
   "source": [
    "https://docs.google.com/spreadsheets/d/1qilXIht6Gv4270yWQ4cBar0GV4tf-C3qOWklVoLlE3M/edit#gid=0"
   ]
  },
  {
   "cell_type": "markdown",
   "metadata": {},
   "source": [
    "# Analysis 3"
   ]
  },
  {
   "cell_type": "code",
   "execution_count": 5,
   "metadata": {},
   "outputs": [],
   "source": [
    "length_file = \"/home/dyang/lengths.txt\"\n",
    "rank_file = \"/home/dyang/rank.txt\"\n",
    "num_lines_file = \"/home/dyang/numLines.txt\"\n",
    "lengths = []\n",
    "ranks = []\n",
    "num_lines = []\n",
    "with open (length_file, 'r') as f:\n",
    "    for line in f:\n",
    "        try:\n",
    "            num = int(line.strip())\n",
    "            lengths.append(num)\n",
    "        except:\n",
    "            pass\n",
    "with open (rank_file, 'r') as f:\n",
    "    for line in f:\n",
    "        try:\n",
    "            num = int(line.strip())\n",
    "            ranks.append(num)\n",
    "        except:\n",
    "            pass\n",
    "with open (num_lines_file, 'r') as f:\n",
    "    for line in f:\n",
    "        try:\n",
    "            num = int(line.strip())\n",
    "            num_lines.append(num)\n",
    "        except:\n",
    "            pass\n",
    "ranks = np.array(ranks)\n",
    "ranks = 1/ranks\n",
    "lengths = np.array(lengths)\n",
    "num_lines = np.array(num_lines)"
   ]
  },
  {
   "cell_type": "code",
   "execution_count": 6,
   "metadata": {},
   "outputs": [
    {
     "name": "stderr",
     "output_type": "stream",
     "text": [
      "No handles with labels found to put in legend.\n"
     ]
    },
    {
     "data": {
      "text/plain": [
       "<matplotlib.legend.Legend at 0x7fa7dbeebda0>"
      ]
     },
     "execution_count": 6,
     "metadata": {},
     "output_type": "execute_result"
    },
    {
     "data": {
      "image/png": "[encoded data removed]",
      "text/plain": [
       "<Figure size 720x720 with 1 Axes>"
      ]
     },
     "metadata": {
      "needs_background": "light"
     },
     "output_type": "display_data"
    }
   ],
   "source": [
    "fig = plt.figure(figsize = (10,10))\n",
    "ax = fig.add_subplot(1, 1, 1)\n",
    "ax.set_title('Reciprocal Rank vs Bootleg Feature Length', fontsize=20)\n",
    "ax.set_xlabel('Bootleg Score Feature Length',fontsize=15)\n",
    "ax.set_ylabel('Reciprocal Rank',fontsize=15)\n",
    "ax.scatter(lengths, ranks)\n",
    "plt.legend(loc=\"upper right\")"
   ]
  },
  {
   "cell_type": "code",
   "execution_count": 7,
   "metadata": {},
   "outputs": [
    {
     "name": "stderr",
     "output_type": "stream",
     "text": [
      "No handles with labels found to put in legend.\n"
     ]
    },
    {
     "data": {
      "text/plain": [
       "<matplotlib.legend.Legend at 0x7fa7dbe7d7b8>"
      ]
     },
     "execution_count": 7,
     "metadata": {},
     "output_type": "execute_result"
    },
    {
     "data": {
      "image/png": "[encoded data removed]",
      "text/plain": [
       "<Figure size 720x720 with 1 Axes>"
      ]
     },
     "metadata": {
      "needs_background": "light"
     },
     "output_type": "display_data"
    }
   ],
   "source": [
    "fig = plt.figure(figsize = (10,10))\n",
    "ax = fig.add_subplot(1, 1, 1)\n",
    "ax.set_title('Reciprocal Rank vs Number of Grand Staffs', fontsize=20)\n",
    "ax.set_xlabel('Bootleg Score Feature Length',fontsize=15)\n",
    "ax.set_ylabel('Reciprocal Rank',fontsize=15)\n",
    "ax.scatter(num_lines, ranks)\n",
    "plt.legend(loc=\"upper right\")"
   ]
  },
  {
   "cell_type": "code",
   "execution_count": null,
   "metadata": {},
   "outputs": [],
   "source": [
    "y1 = []\n",
    "y2 = []\n",
    "for i in range(5):\n",
    "    x = np.where(num_lines==i+1)[0]\n",
    "    ranks_tmp = ranks[x]\n",
    "    ranks_1 = np.where(ranks_tmp>0.9)[0]\n",
    "    ranks_2 = np.where(ranks_tmp<0.9)[0]\n",
    "    y1.append(len(ranks_1))\n",
    "    y2.append(len(ranks_2))\n",
    "x = [1,2,3,4,5]\n",
    "print(x,y1,y2)\n",
    "\n",
    "\n",
    "\n",
    "fig = plt.figure(figsize = (10,10))\n",
    "ax = fig.add_subplot(1, 1, 1)\n",
    "ax.set_title('', fontsize=10)\n",
    "ax.set_ylabel('Bootleg Score Length')\n",
    "ax.set_ylabel('Reciprocal Rank')\n",
    "p1 = ax.bar(x, y1)\n",
    "p2 = ax.bar(x,y2,bottom=y1)\n",
    "ax.scatter(num_lines, ranks)\n",
    "plt.legend((p1[0], p2[0]), ('Reciprocal Rank 1', 'Reciprocal Rank Not 1'), loc=\"upper right\", fontsize=15)"
   ]
  },
  {
   "cell_type": "code",
   "execution_count": null,
   "metadata": {},
   "outputs": [],
   "source": []
  },
  {
   "cell_type": "markdown",
   "metadata": {},
   "source": [
    "# Analysis 4"
   ]
  },
  {
   "cell_type": "code",
   "execution_count": 3,
   "metadata": {},
   "outputs": [],
   "source": [
    "import librosa as lb"
   ]
  },
  {
   "cell_type": "code",
   "execution_count": 4,
   "metadata": {},
   "outputs": [],
   "source": [
    "arr1 = [1, 2, 3, 4]\n",
    "arr2 = [100, 1, 2, 100, 3, 100, 4]"
   ]
  },
  {
   "cell_type": "code",
   "execution_count": 5,
   "metadata": {},
   "outputs": [
    {
     "data": {
      "text/plain": [
       "0.0"
      ]
     },
     "execution_count": 5,
     "metadata": {},
     "output_type": "execute_result"
    }
   ],
   "source": [
    "score = np.min(lb.sequence.dtw(arr1, arr2, subseq=True, backtrack=False,\n",
    "                               step_sizes_sigma=np.array([[1,1],[1,2], [2,1]]), \n",
    "                               weights_mul=np.array([1,1,2]))[-1])\n",
    "score"
   ]
  },
  {
   "cell_type": "code",
   "execution_count": 4,
   "metadata": {},
   "outputs": [],
   "source": [
    "def readHypothesisFiles(hypdir, benchmark):\n",
    "    l = []\n",
    "    if benchmark == 1:\n",
    "        for hypfile in sorted(glob.glob(\"{}/*.pkl\".format(hypdir))):\n",
    "            with open(hypfile, \"rb\") as f:\n",
    "                l.append([os.path.splitext(os.path.basename(hypfile))[0],pickle.load(f)])\n",
    "    elif benchmark == 0 or benchmark == 2:\n",
    "        for hypfile in sorted(glob.glob(\"{}/*.hyp\".format(hypdir))):\n",
    "            print(hypfile)\n",
    "            with open(hypfile, \"rb\") as f:\n",
    "                l.append(pickle.load(f))\n",
    "    elif benchmark == 3:\n",
    "        for hypfile in sorted(glob.glob(\"{}/*.hyp\".format(hypdir))):\n",
    "            print(hypfile)\n",
    "            with open(hypfile, \"rb\") as f:\n",
    "                data = pickle.load(f)\n",
    "                pieceScores = [(x[1],x[0]) for x in data[1]]\n",
    "                l.append((data[0],pieceScores))\n",
    "    return l"
   ]
  },
  {
   "cell_type": "code",
   "execution_count": 5,
   "metadata": {},
   "outputs": [
    {
     "name": "stdout",
     "output_type": "stream",
     "text": [
      "experiments/DynamicStatic1k/hyp/p101_q1.hyp\n",
      "experiments/DynamicStatic1k/hyp/p101_q10.hyp\n",
      "experiments/DynamicStatic1k/hyp/p101_q2.hyp\n",
      "experiments/DynamicStatic1k/hyp/p101_q3.hyp\n",
      "experiments/DynamicStatic1k/hyp/p101_q4.hyp\n",
      "experiments/DynamicStatic1k/hyp/p101_q5.hyp\n",
      "experiments/DynamicStatic1k/hyp/p101_q6.hyp\n",
      "experiments/DynamicStatic1k/hyp/p101_q7.hyp\n",
      "experiments/DynamicStatic1k/hyp/p101_q8.hyp\n",
      "experiments/DynamicStatic1k/hyp/p101_q9.hyp\n",
      "experiments/DynamicStatic1k/hyp/p105_q1.hyp\n",
      "experiments/DynamicStatic1k/hyp/p105_q10.hyp\n",
      "experiments/DynamicStatic1k/hyp/p105_q2.hyp\n",
      "experiments/DynamicStatic1k/hyp/p105_q3.hyp\n",
      "experiments/DynamicStatic1k/hyp/p105_q4.hyp\n",
      "experiments/DynamicStatic1k/hyp/p105_q5.hyp\n",
      "experiments/DynamicStatic1k/hyp/p105_q6.hyp\n",
      "experiments/DynamicStatic1k/hyp/p105_q7.hyp\n",
      "experiments/DynamicStatic1k/hyp/p105_q8.hyp\n",
      "experiments/DynamicStatic1k/hyp/p105_q9.hyp\n",
      "experiments/DynamicStatic1k/hyp/p111_q1.hyp\n",
      "experiments/DynamicStatic1k/hyp/p111_q10.hyp\n",
      "experiments/DynamicStatic1k/hyp/p111_q2.hyp\n",
      "experiments/DynamicStatic1k/hyp/p111_q3.hyp\n",
      "experiments/DynamicStatic1k/hyp/p111_q4.hyp\n",
      "experiments/DynamicStatic1k/hyp/p111_q5.hyp\n",
      "experiments/DynamicStatic1k/hyp/p111_q6.hyp\n",
      "experiments/DynamicStatic1k/hyp/p111_q7.hyp\n",
      "experiments/DynamicStatic1k/hyp/p111_q8.hyp\n",
      "experiments/DynamicStatic1k/hyp/p111_q9.hyp\n",
      "experiments/DynamicStatic1k/hyp/p115_q1.hyp\n",
      "experiments/DynamicStatic1k/hyp/p115_q10.hyp\n",
      "experiments/DynamicStatic1k/hyp/p115_q2.hyp\n",
      "experiments/DynamicStatic1k/hyp/p115_q3.hyp\n",
      "experiments/DynamicStatic1k/hyp/p115_q4.hyp\n",
      "experiments/DynamicStatic1k/hyp/p115_q5.hyp\n",
      "experiments/DynamicStatic1k/hyp/p115_q6.hyp\n",
      "experiments/DynamicStatic1k/hyp/p115_q7.hyp\n",
      "experiments/DynamicStatic1k/hyp/p115_q8.hyp\n",
      "experiments/DynamicStatic1k/hyp/p115_q9.hyp\n",
      "experiments/DynamicStatic1k/hyp/p11_q1.hyp\n",
      "experiments/DynamicStatic1k/hyp/p11_q10.hyp\n",
      "experiments/DynamicStatic1k/hyp/p11_q2.hyp\n",
      "experiments/DynamicStatic1k/hyp/p11_q3.hyp\n",
      "experiments/DynamicStatic1k/hyp/p11_q4.hyp\n",
      "experiments/DynamicStatic1k/hyp/p11_q5.hyp\n",
      "experiments/DynamicStatic1k/hyp/p11_q6.hyp\n",
      "experiments/DynamicStatic1k/hyp/p11_q7.hyp\n",
      "experiments/DynamicStatic1k/hyp/p11_q8.hyp\n",
      "experiments/DynamicStatic1k/hyp/p11_q9.hyp\n",
      "experiments/DynamicStatic1k/hyp/p121_q1.hyp\n",
      "experiments/DynamicStatic1k/hyp/p121_q10.hyp\n",
      "experiments/DynamicStatic1k/hyp/p121_q2.hyp\n",
      "experiments/DynamicStatic1k/hyp/p121_q3.hyp\n",
      "experiments/DynamicStatic1k/hyp/p121_q4.hyp\n",
      "experiments/DynamicStatic1k/hyp/p121_q5.hyp\n",
      "experiments/DynamicStatic1k/hyp/p121_q6.hyp\n",
      "experiments/DynamicStatic1k/hyp/p121_q7.hyp\n",
      "experiments/DynamicStatic1k/hyp/p121_q8.hyp\n",
      "experiments/DynamicStatic1k/hyp/p121_q9.hyp\n",
      "experiments/DynamicStatic1k/hyp/p125_q1.hyp\n",
      "experiments/DynamicStatic1k/hyp/p125_q10.hyp\n",
      "experiments/DynamicStatic1k/hyp/p125_q2.hyp\n",
      "experiments/DynamicStatic1k/hyp/p125_q3.hyp\n",
      "experiments/DynamicStatic1k/hyp/p125_q4.hyp\n",
      "experiments/DynamicStatic1k/hyp/p125_q5.hyp\n",
      "experiments/DynamicStatic1k/hyp/p125_q6.hyp\n",
      "experiments/DynamicStatic1k/hyp/p125_q7.hyp\n",
      "experiments/DynamicStatic1k/hyp/p125_q8.hyp\n",
      "experiments/DynamicStatic1k/hyp/p125_q9.hyp\n",
      "experiments/DynamicStatic1k/hyp/p131_q1.hyp\n",
      "experiments/DynamicStatic1k/hyp/p131_q10.hyp\n",
      "experiments/DynamicStatic1k/hyp/p131_q2.hyp\n",
      "experiments/DynamicStatic1k/hyp/p131_q3.hyp\n",
      "experiments/DynamicStatic1k/hyp/p131_q4.hyp\n",
      "experiments/DynamicStatic1k/hyp/p131_q5.hyp\n",
      "experiments/DynamicStatic1k/hyp/p131_q6.hyp\n",
      "experiments/DynamicStatic1k/hyp/p131_q7.hyp\n",
      "experiments/DynamicStatic1k/hyp/p131_q8.hyp\n",
      "experiments/DynamicStatic1k/hyp/p131_q9.hyp\n",
      "experiments/DynamicStatic1k/hyp/p135_q1.hyp\n",
      "experiments/DynamicStatic1k/hyp/p135_q10.hyp\n",
      "experiments/DynamicStatic1k/hyp/p135_q2.hyp\n",
      "experiments/DynamicStatic1k/hyp/p135_q3.hyp\n",
      "experiments/DynamicStatic1k/hyp/p135_q4.hyp\n",
      "experiments/DynamicStatic1k/hyp/p135_q5.hyp\n",
      "experiments/DynamicStatic1k/hyp/p135_q6.hyp\n",
      "experiments/DynamicStatic1k/hyp/p135_q7.hyp\n",
      "experiments/DynamicStatic1k/hyp/p135_q8.hyp\n",
      "experiments/DynamicStatic1k/hyp/p135_q9.hyp\n",
      "experiments/DynamicStatic1k/hyp/p141_q1.hyp\n",
      "experiments/DynamicStatic1k/hyp/p141_q10.hyp\n",
      "experiments/DynamicStatic1k/hyp/p141_q2.hyp\n",
      "experiments/DynamicStatic1k/hyp/p141_q3.hyp\n",
      "experiments/DynamicStatic1k/hyp/p141_q4.hyp\n",
      "experiments/DynamicStatic1k/hyp/p141_q5.hyp\n",
      "experiments/DynamicStatic1k/hyp/p141_q6.hyp\n",
      "experiments/DynamicStatic1k/hyp/p141_q7.hyp\n",
      "experiments/DynamicStatic1k/hyp/p141_q8.hyp\n",
      "experiments/DynamicStatic1k/hyp/p141_q9.hyp\n",
      "experiments/DynamicStatic1k/hyp/p145_q1.hyp\n",
      "experiments/DynamicStatic1k/hyp/p145_q10.hyp\n",
      "experiments/DynamicStatic1k/hyp/p145_q2.hyp\n",
      "experiments/DynamicStatic1k/hyp/p145_q3.hyp\n",
      "experiments/DynamicStatic1k/hyp/p145_q4.hyp\n",
      "experiments/DynamicStatic1k/hyp/p145_q5.hyp\n",
      "experiments/DynamicStatic1k/hyp/p145_q6.hyp\n",
      "experiments/DynamicStatic1k/hyp/p145_q7.hyp\n",
      "experiments/DynamicStatic1k/hyp/p145_q8.hyp\n",
      "experiments/DynamicStatic1k/hyp/p145_q9.hyp\n",
      "experiments/DynamicStatic1k/hyp/p151_q1.hyp\n",
      "experiments/DynamicStatic1k/hyp/p151_q10.hyp\n",
      "experiments/DynamicStatic1k/hyp/p151_q2.hyp\n",
      "experiments/DynamicStatic1k/hyp/p151_q3.hyp\n",
      "experiments/DynamicStatic1k/hyp/p151_q4.hyp\n",
      "experiments/DynamicStatic1k/hyp/p151_q5.hyp\n",
      "experiments/DynamicStatic1k/hyp/p151_q6.hyp\n",
      "experiments/DynamicStatic1k/hyp/p151_q7.hyp\n",
      "experiments/DynamicStatic1k/hyp/p151_q8.hyp\n",
      "experiments/DynamicStatic1k/hyp/p151_q9.hyp\n",
      "experiments/DynamicStatic1k/hyp/p155_q1.hyp\n",
      "experiments/DynamicStatic1k/hyp/p155_q10.hyp\n",
      "experiments/DynamicStatic1k/hyp/p155_q2.hyp\n",
      "experiments/DynamicStatic1k/hyp/p155_q3.hyp\n",
      "experiments/DynamicStatic1k/hyp/p155_q4.hyp\n",
      "experiments/DynamicStatic1k/hyp/p155_q5.hyp\n",
      "experiments/DynamicStatic1k/hyp/p155_q6.hyp\n",
      "experiments/DynamicStatic1k/hyp/p155_q7.hyp\n",
      "experiments/DynamicStatic1k/hyp/p155_q8.hyp\n",
      "experiments/DynamicStatic1k/hyp/p155_q9.hyp\n",
      "experiments/DynamicStatic1k/hyp/p15_q1.hyp\n",
      "experiments/DynamicStatic1k/hyp/p15_q10.hyp\n",
      "experiments/DynamicStatic1k/hyp/p15_q2.hyp\n",
      "experiments/DynamicStatic1k/hyp/p15_q3.hyp\n",
      "experiments/DynamicStatic1k/hyp/p15_q4.hyp\n",
      "experiments/DynamicStatic1k/hyp/p15_q5.hyp\n",
      "experiments/DynamicStatic1k/hyp/p15_q6.hyp\n",
      "experiments/DynamicStatic1k/hyp/p15_q7.hyp\n",
      "experiments/DynamicStatic1k/hyp/p15_q8.hyp\n",
      "experiments/DynamicStatic1k/hyp/p15_q9.hyp\n",
      "experiments/DynamicStatic1k/hyp/p161_q1.hyp\n",
      "experiments/DynamicStatic1k/hyp/p161_q10.hyp\n",
      "experiments/DynamicStatic1k/hyp/p161_q2.hyp\n",
      "experiments/DynamicStatic1k/hyp/p161_q3.hyp\n",
      "experiments/DynamicStatic1k/hyp/p161_q4.hyp\n",
      "experiments/DynamicStatic1k/hyp/p161_q5.hyp\n",
      "experiments/DynamicStatic1k/hyp/p161_q6.hyp\n",
      "experiments/DynamicStatic1k/hyp/p161_q7.hyp\n",
      "experiments/DynamicStatic1k/hyp/p161_q8.hyp\n",
      "experiments/DynamicStatic1k/hyp/p161_q9.hyp\n",
      "experiments/DynamicStatic1k/hyp/p165_q1.hyp\n",
      "experiments/DynamicStatic1k/hyp/p165_q10.hyp\n",
      "experiments/DynamicStatic1k/hyp/p165_q2.hyp\n",
      "experiments/DynamicStatic1k/hyp/p165_q3.hyp\n",
      "experiments/DynamicStatic1k/hyp/p165_q4.hyp\n",
      "experiments/DynamicStatic1k/hyp/p165_q5.hyp\n",
      "experiments/DynamicStatic1k/hyp/p165_q6.hyp\n",
      "experiments/DynamicStatic1k/hyp/p165_q7.hyp\n",
      "experiments/DynamicStatic1k/hyp/p165_q8.hyp\n",
      "experiments/DynamicStatic1k/hyp/p165_q9.hyp\n",
      "experiments/DynamicStatic1k/hyp/p171_q1.hyp\n",
      "experiments/DynamicStatic1k/hyp/p171_q10.hyp\n",
      "experiments/DynamicStatic1k/hyp/p171_q2.hyp\n",
      "experiments/DynamicStatic1k/hyp/p171_q3.hyp\n",
      "experiments/DynamicStatic1k/hyp/p171_q4.hyp\n",
      "experiments/DynamicStatic1k/hyp/p171_q5.hyp\n",
      "experiments/DynamicStatic1k/hyp/p171_q6.hyp\n",
      "experiments/DynamicStatic1k/hyp/p171_q7.hyp\n",
      "experiments/DynamicStatic1k/hyp/p171_q8.hyp\n",
      "experiments/DynamicStatic1k/hyp/p171_q9.hyp\n",
      "experiments/DynamicStatic1k/hyp/p175_q1.hyp\n",
      "experiments/DynamicStatic1k/hyp/p175_q10.hyp\n",
      "experiments/DynamicStatic1k/hyp/p175_q2.hyp\n",
      "experiments/DynamicStatic1k/hyp/p175_q3.hyp\n",
      "experiments/DynamicStatic1k/hyp/p175_q4.hyp\n",
      "experiments/DynamicStatic1k/hyp/p175_q5.hyp\n",
      "experiments/DynamicStatic1k/hyp/p175_q6.hyp\n",
      "experiments/DynamicStatic1k/hyp/p175_q7.hyp\n",
      "experiments/DynamicStatic1k/hyp/p175_q8.hyp\n",
      "experiments/DynamicStatic1k/hyp/p175_q9.hyp\n",
      "experiments/DynamicStatic1k/hyp/p181_q1.hyp\n",
      "experiments/DynamicStatic1k/hyp/p181_q10.hyp\n",
      "experiments/DynamicStatic1k/hyp/p181_q2.hyp\n",
      "experiments/DynamicStatic1k/hyp/p181_q3.hyp\n",
      "experiments/DynamicStatic1k/hyp/p181_q4.hyp\n",
      "experiments/DynamicStatic1k/hyp/p181_q5.hyp\n",
      "experiments/DynamicStatic1k/hyp/p181_q6.hyp\n",
      "experiments/DynamicStatic1k/hyp/p181_q7.hyp\n",
      "experiments/DynamicStatic1k/hyp/p181_q8.hyp\n",
      "experiments/DynamicStatic1k/hyp/p181_q9.hyp\n",
      "experiments/DynamicStatic1k/hyp/p185_q1.hyp\n",
      "experiments/DynamicStatic1k/hyp/p185_q10.hyp\n",
      "experiments/DynamicStatic1k/hyp/p185_q2.hyp\n",
      "experiments/DynamicStatic1k/hyp/p185_q3.hyp\n",
      "experiments/DynamicStatic1k/hyp/p185_q4.hyp\n",
      "experiments/DynamicStatic1k/hyp/p185_q5.hyp\n",
      "experiments/DynamicStatic1k/hyp/p185_q6.hyp\n",
      "experiments/DynamicStatic1k/hyp/p185_q7.hyp\n",
      "experiments/DynamicStatic1k/hyp/p185_q8.hyp\n",
      "experiments/DynamicStatic1k/hyp/p185_q9.hyp\n",
      "experiments/DynamicStatic1k/hyp/p191_q1.hyp\n",
      "experiments/DynamicStatic1k/hyp/p191_q10.hyp\n",
      "experiments/DynamicStatic1k/hyp/p191_q2.hyp\n",
      "experiments/DynamicStatic1k/hyp/p191_q3.hyp\n",
      "experiments/DynamicStatic1k/hyp/p191_q4.hyp\n",
      "experiments/DynamicStatic1k/hyp/p191_q5.hyp\n",
      "experiments/DynamicStatic1k/hyp/p191_q6.hyp\n",
      "experiments/DynamicStatic1k/hyp/p191_q7.hyp\n",
      "experiments/DynamicStatic1k/hyp/p191_q8.hyp\n",
      "experiments/DynamicStatic1k/hyp/p191_q9.hyp\n",
      "experiments/DynamicStatic1k/hyp/p195_q1.hyp\n",
      "experiments/DynamicStatic1k/hyp/p195_q10.hyp\n",
      "experiments/DynamicStatic1k/hyp/p195_q2.hyp\n",
      "experiments/DynamicStatic1k/hyp/p195_q3.hyp\n",
      "experiments/DynamicStatic1k/hyp/p195_q4.hyp\n",
      "experiments/DynamicStatic1k/hyp/p195_q5.hyp\n",
      "experiments/DynamicStatic1k/hyp/p195_q6.hyp\n",
      "experiments/DynamicStatic1k/hyp/p195_q7.hyp\n",
      "experiments/DynamicStatic1k/hyp/p195_q8.hyp\n",
      "experiments/DynamicStatic1k/hyp/p195_q9.hyp\n",
      "experiments/DynamicStatic1k/hyp/p1_q1.hyp\n",
      "experiments/DynamicStatic1k/hyp/p1_q10.hyp\n",
      "experiments/DynamicStatic1k/hyp/p1_q2.hyp\n"
     ]
    },
    {
     "name": "stdout",
     "output_type": "stream",
     "text": [
      "experiments/DynamicStatic1k/hyp/p1_q3.hyp\n",
      "experiments/DynamicStatic1k/hyp/p1_q4.hyp\n",
      "experiments/DynamicStatic1k/hyp/p1_q5.hyp\n",
      "experiments/DynamicStatic1k/hyp/p1_q6.hyp\n",
      "experiments/DynamicStatic1k/hyp/p1_q7.hyp\n",
      "experiments/DynamicStatic1k/hyp/p1_q8.hyp\n",
      "experiments/DynamicStatic1k/hyp/p1_q9.hyp\n",
      "experiments/DynamicStatic1k/hyp/p21_q1.hyp\n",
      "experiments/DynamicStatic1k/hyp/p21_q10.hyp\n",
      "experiments/DynamicStatic1k/hyp/p21_q2.hyp\n",
      "experiments/DynamicStatic1k/hyp/p21_q3.hyp\n",
      "experiments/DynamicStatic1k/hyp/p21_q4.hyp\n",
      "experiments/DynamicStatic1k/hyp/p21_q5.hyp\n",
      "experiments/DynamicStatic1k/hyp/p21_q6.hyp\n",
      "experiments/DynamicStatic1k/hyp/p21_q7.hyp\n",
      "experiments/DynamicStatic1k/hyp/p21_q8.hyp\n",
      "experiments/DynamicStatic1k/hyp/p21_q9.hyp\n",
      "experiments/DynamicStatic1k/hyp/p25_q1.hyp\n",
      "experiments/DynamicStatic1k/hyp/p25_q10.hyp\n",
      "experiments/DynamicStatic1k/hyp/p25_q2.hyp\n",
      "experiments/DynamicStatic1k/hyp/p25_q3.hyp\n",
      "experiments/DynamicStatic1k/hyp/p25_q4.hyp\n",
      "experiments/DynamicStatic1k/hyp/p25_q5.hyp\n",
      "experiments/DynamicStatic1k/hyp/p25_q6.hyp\n",
      "experiments/DynamicStatic1k/hyp/p25_q7.hyp\n",
      "experiments/DynamicStatic1k/hyp/p25_q8.hyp\n",
      "experiments/DynamicStatic1k/hyp/p25_q9.hyp\n",
      "experiments/DynamicStatic1k/hyp/p31_q1.hyp\n",
      "experiments/DynamicStatic1k/hyp/p31_q10.hyp\n",
      "experiments/DynamicStatic1k/hyp/p31_q2.hyp\n",
      "experiments/DynamicStatic1k/hyp/p31_q3.hyp\n",
      "experiments/DynamicStatic1k/hyp/p31_q4.hyp\n",
      "experiments/DynamicStatic1k/hyp/p31_q5.hyp\n",
      "experiments/DynamicStatic1k/hyp/p31_q6.hyp\n",
      "experiments/DynamicStatic1k/hyp/p31_q7.hyp\n",
      "experiments/DynamicStatic1k/hyp/p31_q8.hyp\n",
      "experiments/DynamicStatic1k/hyp/p31_q9.hyp\n",
      "experiments/DynamicStatic1k/hyp/p35_q1.hyp\n",
      "experiments/DynamicStatic1k/hyp/p35_q10.hyp\n",
      "experiments/DynamicStatic1k/hyp/p35_q2.hyp\n",
      "experiments/DynamicStatic1k/hyp/p35_q3.hyp\n",
      "experiments/DynamicStatic1k/hyp/p35_q4.hyp\n",
      "experiments/DynamicStatic1k/hyp/p35_q5.hyp\n",
      "experiments/DynamicStatic1k/hyp/p35_q6.hyp\n",
      "experiments/DynamicStatic1k/hyp/p35_q7.hyp\n",
      "experiments/DynamicStatic1k/hyp/p35_q8.hyp\n",
      "experiments/DynamicStatic1k/hyp/p35_q9.hyp\n",
      "experiments/DynamicStatic1k/hyp/p41_q1.hyp\n",
      "experiments/DynamicStatic1k/hyp/p41_q10.hyp\n",
      "experiments/DynamicStatic1k/hyp/p41_q2.hyp\n",
      "experiments/DynamicStatic1k/hyp/p41_q3.hyp\n",
      "experiments/DynamicStatic1k/hyp/p41_q4.hyp\n",
      "experiments/DynamicStatic1k/hyp/p41_q5.hyp\n",
      "experiments/DynamicStatic1k/hyp/p41_q6.hyp\n",
      "experiments/DynamicStatic1k/hyp/p41_q7.hyp\n",
      "experiments/DynamicStatic1k/hyp/p41_q8.hyp\n",
      "experiments/DynamicStatic1k/hyp/p41_q9.hyp\n",
      "experiments/DynamicStatic1k/hyp/p45_q1.hyp\n",
      "experiments/DynamicStatic1k/hyp/p45_q10.hyp\n",
      "experiments/DynamicStatic1k/hyp/p45_q2.hyp\n",
      "experiments/DynamicStatic1k/hyp/p45_q3.hyp\n",
      "experiments/DynamicStatic1k/hyp/p45_q4.hyp\n",
      "experiments/DynamicStatic1k/hyp/p45_q5.hyp\n",
      "experiments/DynamicStatic1k/hyp/p45_q6.hyp\n",
      "experiments/DynamicStatic1k/hyp/p45_q7.hyp\n",
      "experiments/DynamicStatic1k/hyp/p45_q8.hyp\n",
      "experiments/DynamicStatic1k/hyp/p45_q9.hyp\n",
      "experiments/DynamicStatic1k/hyp/p51_q1.hyp\n",
      "experiments/DynamicStatic1k/hyp/p51_q10.hyp\n",
      "experiments/DynamicStatic1k/hyp/p51_q2.hyp\n",
      "experiments/DynamicStatic1k/hyp/p51_q3.hyp\n",
      "experiments/DynamicStatic1k/hyp/p51_q4.hyp\n",
      "experiments/DynamicStatic1k/hyp/p51_q5.hyp\n",
      "experiments/DynamicStatic1k/hyp/p51_q6.hyp\n",
      "experiments/DynamicStatic1k/hyp/p51_q7.hyp\n",
      "experiments/DynamicStatic1k/hyp/p51_q8.hyp\n",
      "experiments/DynamicStatic1k/hyp/p51_q9.hyp\n",
      "experiments/DynamicStatic1k/hyp/p55_q1.hyp\n",
      "experiments/DynamicStatic1k/hyp/p55_q10.hyp\n",
      "experiments/DynamicStatic1k/hyp/p55_q2.hyp\n",
      "experiments/DynamicStatic1k/hyp/p55_q3.hyp\n",
      "experiments/DynamicStatic1k/hyp/p55_q4.hyp\n",
      "experiments/DynamicStatic1k/hyp/p55_q5.hyp\n",
      "experiments/DynamicStatic1k/hyp/p55_q6.hyp\n",
      "experiments/DynamicStatic1k/hyp/p55_q7.hyp\n",
      "experiments/DynamicStatic1k/hyp/p55_q8.hyp\n",
      "experiments/DynamicStatic1k/hyp/p55_q9.hyp\n",
      "experiments/DynamicStatic1k/hyp/p5_q1.hyp\n",
      "experiments/DynamicStatic1k/hyp/p5_q10.hyp\n",
      "experiments/DynamicStatic1k/hyp/p5_q2.hyp\n",
      "experiments/DynamicStatic1k/hyp/p5_q3.hyp\n",
      "experiments/DynamicStatic1k/hyp/p5_q4.hyp\n",
      "experiments/DynamicStatic1k/hyp/p5_q5.hyp\n",
      "experiments/DynamicStatic1k/hyp/p5_q6.hyp\n",
      "experiments/DynamicStatic1k/hyp/p5_q7.hyp\n",
      "experiments/DynamicStatic1k/hyp/p5_q8.hyp\n",
      "experiments/DynamicStatic1k/hyp/p5_q9.hyp\n",
      "experiments/DynamicStatic1k/hyp/p61_q1.hyp\n",
      "experiments/DynamicStatic1k/hyp/p61_q10.hyp\n",
      "experiments/DynamicStatic1k/hyp/p61_q2.hyp\n",
      "experiments/DynamicStatic1k/hyp/p61_q3.hyp\n",
      "experiments/DynamicStatic1k/hyp/p61_q4.hyp\n",
      "experiments/DynamicStatic1k/hyp/p61_q5.hyp\n",
      "experiments/DynamicStatic1k/hyp/p61_q6.hyp\n",
      "experiments/DynamicStatic1k/hyp/p61_q7.hyp\n",
      "experiments/DynamicStatic1k/hyp/p61_q8.hyp\n",
      "experiments/DynamicStatic1k/hyp/p61_q9.hyp\n",
      "experiments/DynamicStatic1k/hyp/p65_q1.hyp\n",
      "experiments/DynamicStatic1k/hyp/p65_q10.hyp\n",
      "experiments/DynamicStatic1k/hyp/p65_q2.hyp\n",
      "experiments/DynamicStatic1k/hyp/p65_q3.hyp\n",
      "experiments/DynamicStatic1k/hyp/p65_q4.hyp\n",
      "experiments/DynamicStatic1k/hyp/p65_q5.hyp\n",
      "experiments/DynamicStatic1k/hyp/p65_q6.hyp\n",
      "experiments/DynamicStatic1k/hyp/p65_q7.hyp\n",
      "experiments/DynamicStatic1k/hyp/p65_q8.hyp\n",
      "experiments/DynamicStatic1k/hyp/p65_q9.hyp\n",
      "experiments/DynamicStatic1k/hyp/p71_q1.hyp\n",
      "experiments/DynamicStatic1k/hyp/p71_q10.hyp\n",
      "experiments/DynamicStatic1k/hyp/p71_q2.hyp\n",
      "experiments/DynamicStatic1k/hyp/p71_q3.hyp\n",
      "experiments/DynamicStatic1k/hyp/p71_q4.hyp\n",
      "experiments/DynamicStatic1k/hyp/p71_q5.hyp\n",
      "experiments/DynamicStatic1k/hyp/p71_q6.hyp\n",
      "experiments/DynamicStatic1k/hyp/p71_q7.hyp\n",
      "experiments/DynamicStatic1k/hyp/p71_q8.hyp\n",
      "experiments/DynamicStatic1k/hyp/p71_q9.hyp\n",
      "experiments/DynamicStatic1k/hyp/p75_q1.hyp\n",
      "experiments/DynamicStatic1k/hyp/p75_q10.hyp\n",
      "experiments/DynamicStatic1k/hyp/p75_q2.hyp\n",
      "experiments/DynamicStatic1k/hyp/p75_q3.hyp\n",
      "experiments/DynamicStatic1k/hyp/p75_q4.hyp\n",
      "experiments/DynamicStatic1k/hyp/p75_q5.hyp\n",
      "experiments/DynamicStatic1k/hyp/p75_q6.hyp\n",
      "experiments/DynamicStatic1k/hyp/p75_q7.hyp\n",
      "experiments/DynamicStatic1k/hyp/p75_q8.hyp\n",
      "experiments/DynamicStatic1k/hyp/p75_q9.hyp\n",
      "experiments/DynamicStatic1k/hyp/p81_q1.hyp\n",
      "experiments/DynamicStatic1k/hyp/p81_q10.hyp\n",
      "experiments/DynamicStatic1k/hyp/p81_q2.hyp\n",
      "experiments/DynamicStatic1k/hyp/p81_q3.hyp\n",
      "experiments/DynamicStatic1k/hyp/p81_q4.hyp\n",
      "experiments/DynamicStatic1k/hyp/p81_q5.hyp\n",
      "experiments/DynamicStatic1k/hyp/p81_q6.hyp\n",
      "experiments/DynamicStatic1k/hyp/p81_q7.hyp\n",
      "experiments/DynamicStatic1k/hyp/p81_q8.hyp\n",
      "experiments/DynamicStatic1k/hyp/p81_q9.hyp\n",
      "experiments/DynamicStatic1k/hyp/p85_q1.hyp\n",
      "experiments/DynamicStatic1k/hyp/p85_q10.hyp\n",
      "experiments/DynamicStatic1k/hyp/p85_q2.hyp\n",
      "experiments/DynamicStatic1k/hyp/p85_q3.hyp\n",
      "experiments/DynamicStatic1k/hyp/p85_q4.hyp\n",
      "experiments/DynamicStatic1k/hyp/p85_q5.hyp\n",
      "experiments/DynamicStatic1k/hyp/p85_q6.hyp\n",
      "experiments/DynamicStatic1k/hyp/p85_q7.hyp\n",
      "experiments/DynamicStatic1k/hyp/p85_q8.hyp\n",
      "experiments/DynamicStatic1k/hyp/p85_q9.hyp\n",
      "experiments/DynamicStatic1k/hyp/p91_q1.hyp\n",
      "experiments/DynamicStatic1k/hyp/p91_q10.hyp\n",
      "experiments/DynamicStatic1k/hyp/p91_q2.hyp\n",
      "experiments/DynamicStatic1k/hyp/p91_q3.hyp\n",
      "experiments/DynamicStatic1k/hyp/p91_q4.hyp\n",
      "experiments/DynamicStatic1k/hyp/p91_q5.hyp\n",
      "experiments/DynamicStatic1k/hyp/p91_q6.hyp\n",
      "experiments/DynamicStatic1k/hyp/p91_q7.hyp\n",
      "experiments/DynamicStatic1k/hyp/p91_q8.hyp\n",
      "experiments/DynamicStatic1k/hyp/p91_q9.hyp\n",
      "experiments/DynamicStatic1k/hyp/p95_q1.hyp\n",
      "experiments/DynamicStatic1k/hyp/p95_q10.hyp\n",
      "experiments/DynamicStatic1k/hyp/p95_q2.hyp\n",
      "experiments/DynamicStatic1k/hyp/p95_q3.hyp\n",
      "experiments/DynamicStatic1k/hyp/p95_q4.hyp\n",
      "experiments/DynamicStatic1k/hyp/p95_q5.hyp\n",
      "experiments/DynamicStatic1k/hyp/p95_q6.hyp\n",
      "experiments/DynamicStatic1k/hyp/p95_q7.hyp\n",
      "experiments/DynamicStatic1k/hyp/p95_q8.hyp\n",
      "experiments/DynamicStatic1k/hyp/p95_q9.hyp\n"
     ]
    }
   ],
   "source": [
    "hypdir = 'experiments/DynamicStatic1k/hyp'\n",
    "hyps = readHypothesisFiles(hypdir, 0)"
   ]
  },
  {
   "cell_type": "code",
   "execution_count": 6,
   "metadata": {},
   "outputs": [],
   "source": [
    "def decodeColumn(num):\n",
    "    col = []\n",
    "    for i in range(62):\n",
    "        col.insert(0,num%2)\n",
    "        num = int(num/2)\n",
    "    return col"
   ]
  },
  {
   "cell_type": "code",
   "execution_count": 7,
   "metadata": {},
   "outputs": [],
   "source": [
    "def getTotalBscore(bscore_file):\n",
    "    bscore_array = []\n",
    "    with open (bscore_file,'rb') as f:\n",
    "        bscore_array = pickle.load(f)\n",
    "    f.close()\n",
    "    total_bscore = np.array([]).reshape(62,0)\n",
    "    page_array = []\n",
    "    for page in bscore_array:\n",
    "        total_page = np.array([]).reshape(62,0)\n",
    "        for num in page:\n",
    "            col = np.array(decodeColumn(num)).reshape(62,-1)\n",
    "            total_page = np.concatenate((total_page,col),axis=1)\n",
    "        total_bscore = np.concatenate((total_bscore,total_page),axis=1)\n",
    "        page_array.append(total_page)\n",
    "    return total_bscore,page_array"
   ]
  },
  {
   "cell_type": "code",
   "execution_count": 8,
   "metadata": {},
   "outputs": [],
   "source": [
    "def name_to_bootleg(name):\n",
    "    basedir = \"/home/dyang/SheetMidiSearchRetrieval/experiments/bootleg_output/\"\n",
    "    path = os.path.join(basedir, name)+'.pkl'\n",
    "    return path"
   ]
  },
  {
   "cell_type": "code",
   "execution_count": 9,
   "metadata": {},
   "outputs": [
    {
     "data": {
      "text/plain": [
       "'/home/dyang/SheetMidiSearchRetrieval/experiments/bootleg_output/p101_q1.pkl'"
      ]
     },
     "execution_count": 9,
     "metadata": {},
     "output_type": "execute_result"
    }
   ],
   "source": [
    "name_to_bootleg(hyps[0][0])"
   ]
  },
  {
   "cell_type": "code",
   "execution_count": 10,
   "metadata": {},
   "outputs": [],
   "source": [
    "def bootlegHash(arr):\n",
    "    bitstring = \"\"\n",
    "    for i in range(len(arr)):\n",
    "        if arr[i]==1:\n",
    "            bitstring+=\"1\"\n",
    "        else:\n",
    "            bitstring +=\"0\"\n",
    "    bitstring = bitstring+\"00\"\n",
    "    hashint = int(bitstring, 2)\n",
    "    hashint = np.uint64(hashint)\n",
    "    return hashint"
   ]
  },
  {
   "cell_type": "code",
   "execution_count": 47,
   "metadata": {},
   "outputs": [],
   "source": [
    "def getPaths(hyps):\n",
    "    outdir = \"experiments/DTW/hyp\"\n",
    "    if not os.path.exists(outdir):\n",
    "        os.makedirs(outdir)\n",
    "    hyps = sorted(hyps, key = lambda x: int(x[0].split(\"_\")[0][1:])*100+int(x[0].split(\"_\")[1][1:]))\n",
    "    for index, (queryid, pieceScores) in enumerate(hyps):\n",
    "        if queryid!=\"p45_q6\":\n",
    "            continue\n",
    "        try:\n",
    "            start = time.time()\n",
    "            scores = []\n",
    "            N = 5\n",
    "            for i in range(N):\n",
    "                query=processQuery(os.path.join(\"data/queries\",queryid)+'.jpg')\n",
    "                path = name_to_bootleg(pieceScores[i][0])\n",
    "                num = path.split('/')[-1][0]\n",
    "                if(num == 'd'):\n",
    "                    data, _ = getTotalBscore(path)\n",
    "                else:\n",
    "                    with open(path, 'rb') as pickle_file:\n",
    "                        data = pickle.load(pickle_file)\n",
    "                hashed_data = []\n",
    "                hashed_query = []\n",
    "\n",
    "                for colindex in range(len(data.T)):\n",
    "                    first_col = data.T[colindex]\n",
    "                    first_fp = bootlegHash(first_col)\n",
    "                    hashed_data.append(first_fp)\n",
    "\n",
    "                for colindex in range(len(query.T)):\n",
    "                    first_col = query.T[colindex]\n",
    "                    first_fp = bootlegHash(first_col)\n",
    "                    hashed_query.append(first_fp)\n",
    "\n",
    "                c1 = time.time()\n",
    "\n",
    "                score = np.min(lb.sequence.dtw(hashed_query, hashed_data, subseq=True, backtrack=False,\n",
    "                               step_sizes_sigma=np.array([[1,1],[1,2], [2,1]]), \n",
    "                               weights_mul=np.array([1,1,2]))[-1])\n",
    "                print(len(hashed_data), len(hashed_query))\n",
    "                c2 = time.time()\n",
    "                print(c1-start,c2-start)\n",
    "                scores.append(score)\n",
    "            print(time.time()-start)\n",
    "            n_hyps = pieceScores[:N]\n",
    "            scores, n_hyps = zip(*sorted(zip(scores, n_hyps)))\n",
    "            pieceScores1 = copy.copy(pieceScores)\n",
    "            for idx, item in enumerate(n_hyps):\n",
    "                pieceScores1[idx] = item\n",
    "            hyps[index] = (queryid, pieceScores1)\n",
    "            outfile = os.path.join(outdir, queryid)+\".hyp\"\n",
    "            print(pieceScores[:5])\n",
    "            print(pieceScores1[:5])\n",
    "            with open(outfile, 'wb') as f:\n",
    "                pickle.dump(hyps[index], f)\n",
    "        except:\n",
    "            pass\n",
    "        "
   ]
  },
  {
   "cell_type": "code",
   "execution_count": 48,
   "metadata": {
    "scrolled": true
   },
   "outputs": [
    {
     "name": "stdout",
     "output_type": "stream",
     "text": [
      "Processing data/queries/p45_q6.jpg\n",
      "323 67\n",
      "4.4895594120025635 4.492590427398682\n",
      "Processing data/queries/p45_q6.jpg\n",
      "1151 67\n",
      "8.693554639816284 8.702614784240723\n",
      "Processing data/queries/p45_q6.jpg\n",
      "3604 67\n",
      "12.779043436050415 12.832249641418457\n",
      "Processing data/queries/p45_q6.jpg\n",
      "6073 67\n",
      "19.96980595588684 20.097387552261353\n",
      "Processing data/queries/p45_q6.jpg\n",
      "2866 67\n",
      "25.698405504226685 25.748276948928833\n",
      "25.748717308044434\n",
      "[('p45', 18), ('dB%C4%85darzewska-Baranowska,_TeklaL%27%C3%A9cho_des_bois_**79562', 5), ('dTchaikovsky,_PyotrTheme_with_Variations_in_A_minor_**12785', 3), ('dFibich,_Zden%C4%9BkMoods,_Impressions,_and_Souvenirs,_Op.47_**71601', 3), ('dSchumann,_Robert7_Klavierst%C3%BCcke_in_Fughettenform,_Op.126_**51586', 3)]\n",
      "[('dB%C4%85darzewska-Baranowska,_TeklaL%27%C3%A9cho_des_bois_**79562', 5), ('dTchaikovsky,_PyotrTheme_with_Variations_in_A_minor_**12785', 3), ('dFibich,_Zden%C4%9BkMoods,_Impressions,_and_Souvenirs,_Op.47_**71601', 3), ('dSchumann,_Robert7_Klavierst%C3%BCcke_in_Fughettenform,_Op.126_**51586', 3), ('p45', 18)]\n"
     ]
    }
   ],
   "source": [
    "getPaths(hyps)"
   ]
  },
  {
   "cell_type": "code",
   "execution_count": 109,
   "metadata": {},
   "outputs": [
    {
     "ename": "SyntaxError",
     "evalue": "invalid syntax (<ipython-input-109-e5f5d654a360>, line 1)",
     "output_type": "error",
     "traceback": [
      "\u001b[0;36m  File \u001b[0;32m\"<ipython-input-109-e5f5d654a360>\"\u001b[0;36m, line \u001b[0;32m1\u001b[0m\n\u001b[0;31m    Processing data/queries/p1_q1.jpg\u001b[0m\n\u001b[0m                  ^\u001b[0m\n\u001b[0;31mSyntaxError\u001b[0m\u001b[0;31m:\u001b[0m invalid syntax\n"
     ]
    }
   ],
   "source": [
    "Processing data/queries/p1_q1.jpg\n",
    "7834557480960.0\n",
    "196919904434432\n",
    "Processing data/queries/p1_q2.jpg\n",
    "20890866008064.0\n",
    "277675139874816.0\n",
    "Processing data/queries/p1_q3.jpg\n",
    "554051567616.0\n",
    "Processing data/queries/p1_q4.jpg\n",
    "\n",
    "Processing data/queries/p1_q1.jpg\n",
    "196919904434432.0\n",
    "Processing data/queries/p1_q2.jpg\n",
    "277675139874816.0\n",
    "Processing data/queries/p1_q3.jpg\n",
    "404305063870464.0\n",
    "Processing data/queries/p1_q4.jpg\n",
    "2900244654424064.0\n",
    "Processing data/queries/p1_q5.jpg"
   ]
  },
  {
   "cell_type": "code",
   "execution_count": null,
   "metadata": {},
   "outputs": [],
   "source": []
  }
 ],
 "metadata": {
  "kernelspec": {
   "display_name": "Python 3",
   "language": "python",
   "name": "python3"
  },
  "language_info": {
   "codemirror_mode": {
    "name": "ipython",
    "version": 3
   },
   "file_extension": ".py",
   "mimetype": "text/x-python",
   "name": "python",
   "nbconvert_exporter": "python",
   "pygments_lexer": "ipython3",
   "version": "3.6.9"
  }
 },
 "nbformat": 4,
 "nbformat_minor": 4
}
